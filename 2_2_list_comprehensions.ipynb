{
  "nbformat": 4,
  "nbformat_minor": 0,
  "metadata": {
    "anaconda-cloud": {},
    "kernelspec": {
      "display_name": "Python 3",
      "language": "python",
      "name": "python3"
    },
    "language_info": {
      "codemirror_mode": {
        "name": "ipython",
        "version": 3
      },
      "file_extension": ".py",
      "mimetype": "text/x-python",
      "name": "python",
      "nbconvert_exporter": "python",
      "pygments_lexer": "ipython3",
      "version": "3.7.2"
    },
    "colab": {
      "name": "2_2_list_comprehensions.ipynb",
      "provenance": [],
      "include_colab_link": true
    }
  },
  "cells": [
    {
      "cell_type": "markdown",
      "metadata": {
        "id": "view-in-github",
        "colab_type": "text"
      },
      "source": [
        "<a href=\"https://colab.research.google.com/github/Samuel-Andrews/module2_lectures/blob/master/2_2_list_comprehensions.ipynb\" target=\"_parent\"><img src=\"https://colab.research.google.com/assets/colab-badge.svg\" alt=\"Open In Colab\"/></a>"
      ]
    },
    {
      "cell_type": "markdown",
      "metadata": {
        "id": "OR1lyRk09S7Q",
        "colab_type": "text"
      },
      "source": [
        "# List Comprehensions\n",
        "\n",
        "## Objectives\n",
        "\n",
        "1. Understand the list comprehension syntax\n",
        "2. Demonstrate list processing with comprehensions\n",
        "3. Use list comprehensions in probability simulations"
      ]
    },
    {
      "cell_type": "markdown",
      "metadata": {
        "collapsed": true,
        "id": "4lY8QYsz9S7R",
        "colab_type": "text"
      },
      "source": [
        "## List Comprehension\n",
        "\n",
        "* Expression for constructing list\n",
        "* Returns a new list\n",
        "* Reads like math\n",
        "    * Set builder notation"
      ]
    },
    {
      "cell_type": "code",
      "metadata": {
        "id": "o5AwWmZd9S7R",
        "colab_type": "code",
        "colab": {},
        "outputId": "7cbbd3c2-eea7-494a-9f96-1a2af0c40d9c"
      },
      "source": [
        "mylist = [1,2,3,4,5]\n",
        "yourlist = [item ** 2 for item in mylist]\n",
        "yourlist"
      ],
      "execution_count": null,
      "outputs": [
        {
          "output_type": "execute_result",
          "data": {
            "text/plain": [
              "[1, 4, 9, 16, 25]"
            ]
          },
          "metadata": {
            "tags": []
          },
          "execution_count": 1
        }
      ]
    },
    {
      "cell_type": "markdown",
      "metadata": {
        "id": "MqYsXV8V9S7U",
        "colab_type": "text"
      },
      "source": [
        "## Building a Comprehension\n",
        "\n",
        "\n",
        "    \n",
        "<img src=\"https://github.com/wsu-stat489/USCOTS2017_workshop/blob/master/img/listComprehensions.gif?raw=true\">"
      ]
    },
    {
      "cell_type": "markdown",
      "metadata": {
        "id": "03XTvtSn9S7U",
        "colab_type": "text"
      },
      "source": [
        "## Building a List Comprehension\n",
        "\n",
        "1. Begin with an empty shell\n",
        "\n",
        "2. Insert the input sequence\n",
        "\n",
        "3. Give the elements a name"
      ]
    },
    {
      "cell_type": "markdown",
      "metadata": {
        "id": "3FmREoBT9S7V",
        "colab_type": "text"
      },
      "source": [
        "`L = [   for    in       ]`"
      ]
    },
    {
      "cell_type": "markdown",
      "metadata": {
        "id": "9OaHBf409S7V",
        "colab_type": "text"
      },
      "source": [
        "`L = [    for     in range(10)]`"
      ]
    },
    {
      "cell_type": "markdown",
      "metadata": {
        "id": "xNSy-p149S7V",
        "colab_type": "text"
      },
      "source": [
        "`L = [    for num in range(10)]`"
      ]
    },
    {
      "cell_type": "code",
      "metadata": {
        "id": "jtAGQ5NA9S7W",
        "colab_type": "code",
        "colab": {},
        "outputId": "82c71954-7f15-4d9f-f5cf-99bb6653e1cd"
      },
      "source": [
        "L = [num + 2 for num in range(10)]\n",
        "L"
      ],
      "execution_count": null,
      "outputs": [
        {
          "output_type": "execute_result",
          "data": {
            "text/plain": [
              "[2, 3, 4, 5, 6, 7, 8, 9, 10, 11]"
            ]
          },
          "metadata": {
            "tags": []
          },
          "execution_count": 2
        }
      ]
    },
    {
      "cell_type": "markdown",
      "metadata": {
        "id": "o1faI72d9S7Z",
        "colab_type": "text"
      },
      "source": [
        "## Adding an optional filter\n",
        "\n",
        "* The if portion is optional\n",
        "* Syntax: `if boolean_cond`\n",
        "    * After input sequence\n",
        "* Only keeps value for which the condition is `True`"
      ]
    },
    {
      "cell_type": "code",
      "metadata": {
        "id": "jbKhRtyE9S7a",
        "colab_type": "code",
        "colab": {},
        "outputId": "f68a5d96-4406-42bc-b543-51e3b0f37193"
      },
      "source": [
        "L = [num + 2 for num in range(10) if num % 2 == 1]\n",
        "L"
      ],
      "execution_count": null,
      "outputs": [
        {
          "output_type": "execute_result",
          "data": {
            "text/plain": [
              "[3, 5, 7, 9, 11]"
            ]
          },
          "metadata": {
            "tags": []
          },
          "execution_count": 3
        }
      ]
    },
    {
      "cell_type": "markdown",
      "metadata": {
        "id": "WqDnt1a69S7e",
        "colab_type": "text"
      },
      "source": [
        "### <font color='red'> Exercise 1 </font>\n",
        "\n",
        "Write a list comprehension that contains the squares for the numbers between 0 and 20 (inclusive).  **Hint:** Start with a `range`"
      ]
    },
    {
      "cell_type": "code",
      "metadata": {
        "id": "8JAOkY0R9S7f",
        "colab_type": "code",
        "colab": {
          "base_uri": "https://localhost:8080/",
          "height": 358
        },
        "outputId": "edb29ae2-8b8f-4697-ec90-8bcf1f09a4f8"
      },
      "source": [
        "L = [num**2 for num in range(21)]\n",
        "L"
      ],
      "execution_count": 1,
      "outputs": [
        {
          "output_type": "execute_result",
          "data": {
            "text/plain": [
              "[0,\n",
              " 1,\n",
              " 4,\n",
              " 9,\n",
              " 16,\n",
              " 25,\n",
              " 36,\n",
              " 49,\n",
              " 64,\n",
              " 81,\n",
              " 100,\n",
              " 121,\n",
              " 144,\n",
              " 169,\n",
              " 196,\n",
              " 225,\n",
              " 256,\n",
              " 289,\n",
              " 324,\n",
              " 361,\n",
              " 400]"
            ]
          },
          "metadata": {
            "tags": []
          },
          "execution_count": 1
        }
      ]
    },
    {
      "cell_type": "markdown",
      "metadata": {
        "id": "aS1xYEs39S7h",
        "colab_type": "text"
      },
      "source": [
        "### <font color='red'> Exercise 2 </font>\n",
        "\n",
        "Write a list comprehension that contains all perfect squares less than 555.  **Hint:** Use a large range and a filter."
      ]
    },
    {
      "cell_type": "code",
      "metadata": {
        "id": "DDXBDreK9S7h",
        "colab_type": "code",
        "colab": {
          "base_uri": "https://localhost:8080/",
          "height": 407
        },
        "outputId": "a3cde86e-cbbd-470e-c12f-2bd0513ad9e2"
      },
      "source": [
        "import math as m\n",
        "\n",
        "L = [num for num in range(555) if int(m.sqrt(num) + 0.5)**2 == num] #use the  0.5 cast to int trick to always bump up to nearest bigger int\n",
        "L"
      ],
      "execution_count": null,
      "outputs": [
        {
          "output_type": "execute_result",
          "data": {
            "text/plain": [
              "[0,\n",
              " 1,\n",
              " 4,\n",
              " 9,\n",
              " 16,\n",
              " 25,\n",
              " 36,\n",
              " 49,\n",
              " 64,\n",
              " 81,\n",
              " 100,\n",
              " 121,\n",
              " 144,\n",
              " 169,\n",
              " 196,\n",
              " 225,\n",
              " 256,\n",
              " 289,\n",
              " 324,\n",
              " 361,\n",
              " 400,\n",
              " 441,\n",
              " 484,\n",
              " 529]"
            ]
          },
          "metadata": {
            "tags": []
          },
          "execution_count": 8
        }
      ]
    },
    {
      "cell_type": "markdown",
      "metadata": {
        "id": "1P1yIZl59S7k",
        "colab_type": "text"
      },
      "source": [
        "## Splitting and processing string\n",
        "\n",
        "* Use `split` to cut a string into a list of strings\n",
        "* Use a comprehension to process the list."
      ]
    },
    {
      "cell_type": "code",
      "metadata": {
        "id": "siEYHZqH9S7k",
        "colab_type": "code",
        "colab": {
          "base_uri": "https://localhost:8080/",
          "height": 277
        },
        "outputId": "c0594e00-286b-49aa-d18a-2ac0d0690260"
      },
      "source": [
        "quote = \"Don't judge each day by the harvest you reap but by the seeds that you plant.\"\n",
        "quote.split(\" \")"
      ],
      "execution_count": null,
      "outputs": [
        {
          "output_type": "execute_result",
          "data": {
            "text/plain": [
              "[\"Don't\",\n",
              " 'judge',\n",
              " 'each',\n",
              " 'day',\n",
              " 'by',\n",
              " 'the',\n",
              " 'harvest',\n",
              " 'you',\n",
              " 'reap',\n",
              " 'but',\n",
              " 'by',\n",
              " 'the',\n",
              " 'seeds',\n",
              " 'that',\n",
              " 'you',\n",
              " 'plant.']"
            ]
          },
          "metadata": {
            "tags": []
          },
          "execution_count": 9
        }
      ]
    },
    {
      "cell_type": "code",
      "metadata": {
        "id": "8dy1BgNK9S7m",
        "colab_type": "code",
        "colab": {},
        "outputId": "41a17e51-4ef5-4045-fe0d-5a11b55a4f91"
      },
      "source": [
        "[len(word) for word in quote.split(\" \")]"
      ],
      "execution_count": null,
      "outputs": [
        {
          "output_type": "execute_result",
          "data": {
            "text/plain": [
              "[5, 5, 4, 3, 2, 3, 7, 3, 4, 3, 2, 3, 5, 4, 3, 6]"
            ]
          },
          "metadata": {
            "tags": []
          },
          "execution_count": 3
        }
      ]
    },
    {
      "cell_type": "markdown",
      "metadata": {
        "id": "Qc3BBKl69S7p",
        "colab_type": "text"
      },
      "source": [
        "### <font color='red'> Exercise 3 </font>\n",
        "\n",
        "Write a list comprehension that grabs the last two letter of each word.  **Hint:** Use the slice operation!"
      ]
    },
    {
      "cell_type": "code",
      "metadata": {
        "id": "PmOKN9UU9S7q",
        "colab_type": "code",
        "colab": {
          "base_uri": "https://localhost:8080/",
          "height": 277
        },
        "outputId": "58f4d6ea-3064-4de5-9501-27efc7cd25ed"
      },
      "source": [
        "import re\n",
        "\n",
        "#regex to remove apostohpe and period\n",
        "wordlist = [word[-2:] for  word in  re.sub('[\\'\\.]',\"\",quote).split(\" \")] \n",
        "\n",
        "wordlist"
      ],
      "execution_count": null,
      "outputs": [
        {
          "output_type": "execute_result",
          "data": {
            "text/plain": [
              "['nt',\n",
              " 'ge',\n",
              " 'ch',\n",
              " 'ay',\n",
              " 'by',\n",
              " 'he',\n",
              " 'st',\n",
              " 'ou',\n",
              " 'ap',\n",
              " 'ut',\n",
              " 'by',\n",
              " 'he',\n",
              " 'ds',\n",
              " 'at',\n",
              " 'ou',\n",
              " 'nt']"
            ]
          },
          "metadata": {
            "tags": []
          },
          "execution_count": 31
        }
      ]
    },
    {
      "cell_type": "markdown",
      "metadata": {
        "id": "GI069QhP9S7s",
        "colab_type": "text"
      },
      "source": [
        "### <font color='red'> Exercise 4 </font>\n",
        "\n",
        "Write a list comprehension that contains all words that have at least 4 characters. "
      ]
    },
    {
      "cell_type": "code",
      "metadata": {
        "id": "fk0eKFWR9S7s",
        "colab_type": "code",
        "colab": {
          "base_uri": "https://localhost:8080/",
          "height": 33
        },
        "outputId": "0422c62e-37fe-4cca-a8d1-9ba22db1284d"
      },
      "source": [
        "wordlist = [word for word in re.sub('[\\'\\.]',\"\",quote).split(\" \") if len(word) >= 4]\n",
        "\n",
        "wordlist"
      ],
      "execution_count": null,
      "outputs": [
        {
          "output_type": "execute_result",
          "data": {
            "text/plain": [
              "['Dont', 'judge', 'each', 'harvest', 'reap', 'seeds', 'that', 'plant']"
            ]
          },
          "metadata": {
            "tags": []
          },
          "execution_count": 33
        }
      ]
    },
    {
      "cell_type": "markdown",
      "metadata": {
        "id": "ngETZDEV9S7v",
        "colab_type": "text"
      },
      "source": [
        "### Comprehensions work on any input sequence"
      ]
    },
    {
      "cell_type": "code",
      "metadata": {
        "id": "GYD7JM4U9S7v",
        "colab_type": "code",
        "colab": {},
        "outputId": "e53f3366-2d82-4cfd-b36e-6dec369326da"
      },
      "source": [
        "# On string - gives list of characters\n",
        "[ch for ch in \"Todd Iverson\"]"
      ],
      "execution_count": null,
      "outputs": [
        {
          "output_type": "execute_result",
          "data": {
            "text/plain": [
              "['T', 'o', 'd', 'd', ' ', 'I', 'v', 'e', 'r', 's', 'o', 'n']"
            ]
          },
          "metadata": {
            "tags": []
          },
          "execution_count": 4
        }
      ]
    },
    {
      "cell_type": "code",
      "metadata": {
        "id": "iGFq5WSJ9S7x",
        "colab_type": "code",
        "colab": {},
        "outputId": "72890a06-f96d-42fa-b47e-a7ecc6dac0cf"
      },
      "source": [
        "# On tuple - converts to list\n",
        "[item for item in (1,2,3)]"
      ],
      "execution_count": null,
      "outputs": [
        {
          "output_type": "execute_result",
          "data": {
            "text/plain": [
              "[1, 2, 3]"
            ]
          },
          "metadata": {
            "tags": []
          },
          "execution_count": 5
        }
      ]
    },
    {
      "cell_type": "code",
      "metadata": {
        "id": "q5ka81EU9S7z",
        "colab_type": "code",
        "colab": {},
        "outputId": "617203a8-857f-4433-80d7-061c2a5a2c4b"
      },
      "source": [
        "# On a lazy sequence\n",
        "[tup for tup in enumerate([\"a\", \"b\", \"c\"])]"
      ],
      "execution_count": null,
      "outputs": [
        {
          "output_type": "execute_result",
          "data": {
            "text/plain": [
              "[(0, 'a'), (1, 'b'), (2, 'c')]"
            ]
          },
          "metadata": {
            "tags": []
          },
          "execution_count": 6
        }
      ]
    },
    {
      "cell_type": "markdown",
      "metadata": {
        "id": "U7Z0ihj-9S71",
        "colab_type": "text"
      },
      "source": [
        "## Writing Clean Code\n",
        "### Using helper functions\n",
        "\n",
        "* **Clean Code Rule 1:** Use helper functions to hide complexity"
      ]
    },
    {
      "cell_type": "code",
      "metadata": {
        "id": "QbCqFGQr9S72",
        "colab_type": "code",
        "colab": {},
        "outputId": "6b201877-d6b2-438d-eb7d-55984852911e"
      },
      "source": [
        "# Original comprehension\n",
        "[x**(1/3) for x in range(5) if x %2 == 1]"
      ],
      "execution_count": null,
      "outputs": [
        {
          "output_type": "execute_result",
          "data": {
            "text/plain": [
              "[1.0, 1.4422495703074083]"
            ]
          },
          "metadata": {
            "tags": []
          },
          "execution_count": 2
        }
      ]
    },
    {
      "cell_type": "markdown",
      "metadata": {
        "id": "-QNXgccW9S73",
        "colab_type": "text"
      },
      "source": [
        "## Which is easier to read?"
      ]
    },
    {
      "cell_type": "code",
      "metadata": {
        "id": "6UDxVjMY9S74",
        "colab_type": "code",
        "colab": {},
        "outputId": "2364162b-3c49-4ad9-a4eb-d556f60eb0a2"
      },
      "source": [
        "[x**(1/3) for x in range(5) if x %2 == 1]\n",
        "[cube_root(x) for x in range(5) if is_odd(x)]"
      ],
      "execution_count": null,
      "outputs": [
        {
          "output_type": "execute_result",
          "data": {
            "text/plain": [
              "[1.0, 1.4422495703074083]"
            ]
          },
          "metadata": {
            "tags": []
          },
          "execution_count": 40
        }
      ]
    },
    {
      "cell_type": "markdown",
      "metadata": {
        "id": "7185LSG29S76",
        "colab_type": "text"
      },
      "source": [
        "## Cleaning up list comprehensions\n",
        "\n",
        "1. Make a function for \n",
        "    1. the expression,\n",
        "    2. the sequence, and \n",
        "    3. the predicate\n",
        "2. Refactor by replacing code with function calls."
      ]
    },
    {
      "cell_type": "code",
      "metadata": {
        "id": "b1VqBkXc9S77",
        "colab_type": "code",
        "colab": {}
      },
      "source": [
        "# Helper functions\n",
        "is_odd = lambda x: x % 2 == 1\n",
        "cube_root = lambda x: x**(1/3)"
      ],
      "execution_count": null,
      "outputs": []
    },
    {
      "cell_type": "code",
      "metadata": {
        "scrolled": true,
        "id": "737B8XIF9S79",
        "colab_type": "code",
        "colab": {},
        "outputId": "af180253-3252-41e9-f4a3-4b000c2f0048"
      },
      "source": [
        "# Refactored comprehension\n",
        "[cube_root(x) for x in range(5) if is_odd(x)]"
      ],
      "execution_count": null,
      "outputs": [
        {
          "output_type": "execute_result",
          "data": {
            "text/plain": [
              "[1.0, 1.4422495703074083]"
            ]
          },
          "metadata": {
            "tags": []
          },
          "execution_count": 9
        }
      ]
    },
    {
      "cell_type": "markdown",
      "metadata": {
        "id": "XNDnbbYe9S7_",
        "colab_type": "text"
      },
      "source": [
        "## Unpacking multiple items\n",
        "\n",
        "* Tuple unpacking assigns a name to each item\n",
        "* Can be use in a comprehension on a sequence of tuples"
      ]
    },
    {
      "cell_type": "code",
      "metadata": {
        "id": "5srnGTut9S7_",
        "colab_type": "code",
        "colab": {},
        "outputId": "b6c9b054-7722-4e5b-c979-13c8c81f4206"
      },
      "source": [
        "a, b, c = (1, 2, 3)\n",
        "b"
      ],
      "execution_count": null,
      "outputs": [
        {
          "output_type": "execute_result",
          "data": {
            "text/plain": [
              "2"
            ]
          },
          "metadata": {
            "tags": []
          },
          "execution_count": 9
        }
      ]
    },
    {
      "cell_type": "code",
      "metadata": {
        "id": "c9naoCwF9S8B",
        "colab_type": "code",
        "colab": {},
        "outputId": "44e2e4b1-0734-4af9-8a6f-b3a2af38a466"
      },
      "source": [
        "l = ['a', 'b', 'c']\n",
        "m = [1, 2, 3]\n",
        "# Without unpacking\n",
        "[item for item in zip(l, m)]"
      ],
      "execution_count": null,
      "outputs": [
        {
          "output_type": "execute_result",
          "data": {
            "text/plain": [
              "[('a', 1), ('b', 2), ('c', 3)]"
            ]
          },
          "metadata": {
            "tags": []
          },
          "execution_count": 10
        }
      ]
    },
    {
      "cell_type": "code",
      "metadata": {
        "id": "RV8_Wfki9S8C",
        "colab_type": "code",
        "colab": {},
        "outputId": "50ab2ac2-94d4-41e7-bd82-668e0618f294"
      },
      "source": [
        "# with unpacking\n",
        "[i + str(j) for i, j in zip(l, m)]"
      ],
      "execution_count": null,
      "outputs": [
        {
          "output_type": "execute_result",
          "data": {
            "text/plain": [
              "['a1', 'b2', 'c3']"
            ]
          },
          "metadata": {
            "tags": []
          },
          "execution_count": 11
        }
      ]
    },
    {
      "cell_type": "markdown",
      "metadata": {
        "id": "vXoozghH9S8E",
        "colab_type": "text"
      },
      "source": [
        "## <font color=\"red\"> Exercise 5 </font>\n",
        "\n",
        "You probably learned about the normal and standard normal distribution in your introductory statistics class.  In this activity, we will build up functions to simulate these distributions using a uniform random number generator."
      ]
    },
    {
      "cell_type": "markdown",
      "metadata": {
        "id": "4_XxQerb9S8F",
        "colab_type": "text"
      },
      "source": [
        "#### Step 1 -- Transform two uniform random variates into a standard normal random variate.\n",
        "\n",
        "We will use the [Box-Mueller transformation](https://en.wikipedia.org/wiki/Box%E2%80%93Muller_transform) to simulate turn two uniform random variates (generated with `random.random`) into a single standard normal variate.  **Hint:** In particular you want to implement the formula for $Z_0$ where $U_1$ and $U_2$ are two numbers generated using `random.random`.\n",
        "\n",
        "**Task:** Write a function called `std_norm_variate` that generates a single random normal variate."
      ]
    },
    {
      "cell_type": "code",
      "metadata": {
        "id": "c5Zxn1sv9S8F",
        "colab_type": "code",
        "colab": {
          "base_uri": "https://localhost:8080/",
          "height": 33
        },
        "outputId": "2e141cbf-5c5b-4eaa-b161-fcf3be1a8988"
      },
      "source": [
        "import math as m\n",
        "import random as r\n",
        "\n",
        "std_norm_variate = lambda : m.sqrt( -2 * m.log(r.random())) * m.cos((m.pi*2) * r.random()) \n",
        "\n",
        "std_norm_variate()\n",
        "\n"
      ],
      "execution_count": null,
      "outputs": [
        {
          "output_type": "execute_result",
          "data": {
            "text/plain": [
              "-0.17380363827709017"
            ]
          },
          "metadata": {
            "tags": []
          },
          "execution_count": 19
        }
      ]
    },
    {
      "cell_type": "markdown",
      "metadata": {
        "id": "8uqMSWZ19S8H",
        "colab_type": "text"
      },
      "source": [
        "#### Step 2 -- Create function that generates many standard normal variates.\n",
        "\n",
        "Now use a list comprehension to create a function called `std_norm_variates` that has one argument `n` and returns `n` simulated random normal trials."
      ]
    },
    {
      "cell_type": "code",
      "metadata": {
        "id": "S4XcC3k29S8H",
        "colab_type": "code",
        "colab": {
          "base_uri": "https://localhost:8080/",
          "height": 98
        },
        "outputId": "93ae9566-9602-47d7-a081-fae30f03bc2b"
      },
      "source": [
        "std_norm_variate = lambda : m.sqrt( -2 * m.log(r.random())) * m.cos((m.pi*2) * r.random()) \n",
        "\n",
        "\n",
        "std_norm_variates = lambda n : [std_norm_variate() for i in range(n)]\n",
        "\n",
        "std_norm_variates(5)"
      ],
      "execution_count": null,
      "outputs": [
        {
          "output_type": "execute_result",
          "data": {
            "text/plain": [
              "[0.1343135574997951,\n",
              " 0.009657571301141738,\n",
              " -0.43631986527406547,\n",
              " 0.06904136065321347,\n",
              " 0.32932289980613755]"
            ]
          },
          "metadata": {
            "tags": []
          },
          "execution_count": 29
        }
      ]
    },
    {
      "cell_type": "markdown",
      "metadata": {
        "id": "LMIchVxx9S8L",
        "colab_type": "text"
      },
      "source": [
        "#### Step 3 -- Transform a standard normal variate into a given normal variate.\n",
        "\n",
        "Suppose that `Z` is a standard normal variate and we want to simulate $X~Norm(\\mu, \\sigma)$.  It can be shown that applying the following transformation will result in the desired distribution.\n",
        "\n",
        "$$ X = \\mu + Z\\sigma $$\n",
        "\n",
        "Write a function called `norm_variate` that takes `mean` and `sd` as arguments and returns a normal variate from a distribution with this mean and standard deviation."
      ]
    },
    {
      "cell_type": "code",
      "metadata": {
        "id": "80RzG9o09S8M",
        "colab_type": "code",
        "colab": {
          "base_uri": "https://localhost:8080/",
          "height": 33
        },
        "outputId": "a6420e41-1817-4bbb-b88f-844756ef5256"
      },
      "source": [
        "std_norm_variate = lambda : m.sqrt( -2 * m.log(r.random())) * m.cos((m.pi*2) * r.random()) \n",
        "\n",
        "norm_variate = lambda mean, sd: mean + std_norm_variate()*sd\n",
        "\n",
        "norm_variate(5,1)"
      ],
      "execution_count": null,
      "outputs": [
        {
          "output_type": "execute_result",
          "data": {
            "text/plain": [
              "3.9920192469488596"
            ]
          },
          "metadata": {
            "tags": []
          },
          "execution_count": 41
        }
      ]
    },
    {
      "cell_type": "markdown",
      "metadata": {
        "id": "aYPD_JWX9S8O",
        "colab_type": "text"
      },
      "source": [
        "#### Step 4 -- Create function that generates many standard normal variates.\n",
        "\n",
        "Now use a list comprehension to create a function called `std_norm_variates` that has one argument `n` and returns `n` simulated random normal trials."
      ]
    },
    {
      "cell_type": "markdown",
      "metadata": {
        "id": "8woB42jF3yj7",
        "colab_type": "text"
      },
      "source": [
        "This uses your revised question 4 from the email"
      ]
    },
    {
      "cell_type": "code",
      "metadata": {
        "id": "ak_hBVVW9S8O",
        "colab_type": "code",
        "colab": {
          "base_uri": "https://localhost:8080/",
          "height": 98
        },
        "outputId": "937ea118-9491-489b-a06c-076bc46cce4c"
      },
      "source": [
        "norm_variate = lambda mean, sd: mean + std_norm_variate()*sd\n",
        "\n",
        "norm_variates = lambda n, mu, sd: [norm_variate(mu,sd) for i in range(n)]\n",
        "\n",
        "norm_variates(5,5,1)"
      ],
      "execution_count": null,
      "outputs": [
        {
          "output_type": "execute_result",
          "data": {
            "text/plain": [
              "[4.4467447434341985,\n",
              " 4.061719315630409,\n",
              " 6.104385502307675,\n",
              " 4.555878966076327,\n",
              " 4.6960116768304]"
            ]
          },
          "metadata": {
            "tags": []
          },
          "execution_count": 38
        }
      ]
    }
  ]
}